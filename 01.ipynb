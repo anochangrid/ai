{
 "cells": [
  {
   "cell_type": "code",
   "execution_count": 1,
   "id": "c2b0255b-5c41-447a-b127-0f139683695e",
   "metadata": {},
   "outputs": [],
   "source": [
    "import cv2\n",
    "import numpy as np"
   ]
  },
  {
   "cell_type": "code",
   "execution_count": 2,
   "id": "84fad461-30ca-4bf6-9e6e-2f452aeff481",
   "metadata": {},
   "outputs": [
    {
     "name": "stdout",
     "output_type": "stream",
     "text": [
      "(100, 240, 240)\n"
     ]
    }
   ],
   "source": [
    "s = \"image\\\\\"\n",
    "num = 100\n",
    "row = 240\n",
    "col = 240\n",
    "a = np.zeros((num, row, col))\n",
    "print(a.shape)"
   ]
  },
  {
   "cell_type": "code",
   "execution_count": 3,
   "id": "1fed2d60-8ae6-442f-85de-bcd493410c4c",
   "metadata": {},
   "outputs": [
    {
     "name": "stdout",
     "output_type": "stream",
     "text": [
      "[[255. 255. 255. ... 255. 255. 255.]\n",
      " [255. 255. 255. ... 255. 255. 255.]\n",
      " [255. 255. 255. ... 255. 255. 255.]\n",
      " ...\n",
      " [255. 255. 255. ... 255. 255. 255.]\n",
      " [255. 255. 255. ... 255. 255. 255.]\n",
      " [255. 255. 255. ... 255. 255. 255.]]\n"
     ]
    }
   ],
   "source": [
    "n = 0\n",
    "for i in range(0, 10):\n",
    "    for j in range(1, 11):\n",
    "        a[n, :, :] = cv2.imread(s + str(i) + \"\\\\\" + str(i) + \"-\" + str(j) + \".bmp\", 0)\n",
    "        n = n+1\n",
    "print(a[0, ::])"
   ]
  },
  {
   "cell_type": "code",
   "execution_count": 10,
   "id": "16796379-b978-4d39-9e4c-9237c8f6b17d",
   "metadata": {},
   "outputs": [
    {
     "name": "stdout",
     "output_type": "stream",
     "text": [
      "(240, 240)\n"
     ]
    }
   ],
   "source": [
    "print(a[0,::].shape)"
   ]
  },
  {
   "cell_type": "code",
   "execution_count": 9,
   "id": "4e8b98e3-4916-40bb-81af-542d1b7598c4",
   "metadata": {},
   "outputs": [],
   "source": [
    "feature=np.zeros((num,round(row/5),round(col/5)))\n",
    "for ni in range(0,num):\n",
    "    for nr in range(0,row):\n",
    "        for nc in range(0,col):\n",
    "            if a[ni,nr,nc]==255:\n",
    "                feature[ni,int(nr/5),int(nc/5)]+=1\n",
    "f=feature"
   ]
  },
  {
   "cell_type": "code",
   "execution_count": 12,
   "id": "29421883-eaf1-432a-abf5-5acbec4163b0",
   "metadata": {},
   "outputs": [],
   "source": [
    "o=cv2.imread(\"image\\\\test\\\\5.bmp\",0)\n",
    "of=np.zeros((round(row/5),round(col/5)))\n",
    "for nr in range(0,row):\n",
    "    for nc in range(0,col):\n",
    "        if o[nr,nc]==255:\n",
    "            of[int(nr/5),int(nc/5)]+=1"
   ]
  },
  {
   "cell_type": "code",
   "execution_count": 17,
   "id": "16630dde-afd2-4a4c-8bda-3932dfc10410",
   "metadata": {},
   "outputs": [
    {
     "name": "stdout",
     "output_type": "stream",
     "text": [
      "[  96066.   85142.  110285.  110153.  102270.  103889.  103948.  100054.\n",
      "  112656.   99778.   86995.   84424.   84677.   83273.   82476.   82803.\n",
      "   83868.   82677.   84338.   84269.   95855. 1333586.   91477.  102119.\n",
      "  107335.  105874.  108784.  111414.  114757.  112354.   79948.   97797.\n",
      "  107031.   78375.   85575.  107129.  111396.  105933.  116503.  112122.\n",
      "  108857.  106114.  102126.  103560.  101034.  105016.  111375.  110900.\n",
      "  110628.  108814.   87223.   87918.   95230.   88730.   79073.   82151.\n",
      "   94188.   86252.   77185.   91800.   88331.  108362.  121314.   89836.\n",
      "  143935.  108946.  109578.   97324.   99419.  120538.  102910.  102939.\n",
      "  100465.  102443.   97068.   88816.  106088.  100535.  101622.  104550.\n",
      "  117031.  122261.  118118.  127061.  125294.  111937.  128592.  108484.\n",
      "  109604.  122142.  112495.  112658.  114000.  106094.  101869.  114693.\n",
      "  127703.  109004.  105606.  117819.]\n",
      "1333586.0\n",
      "[58, 33, 54, 30, 55, 14, 17]\n"
     ]
    }
   ],
   "source": [
    "d=np.zeros(100)\n",
    "for i in range(0,100):\n",
    "    d[i]=np.sum((of-f[i,:,:])*(of-f[i,:,:]))\n",
    "print(d)\n",
    "d=d.tolist()\n",
    "temp=[]\n",
    "Int = max(d)\n",
    "print(Int)\n",
    "k=7\n",
    "for i in range(k):\n",
    "    temp.append(d.index(min(d)))\n",
    "    d[d.index(min(d))] = float('inf')\n",
    "print(temp)"
   ]
  },
  {
   "cell_type": "code",
   "execution_count": 18,
   "id": "017b55c2-a509-4ef2-a79c-dcaeeeb41dd7",
   "metadata": {},
   "outputs": [
    {
     "name": "stdout",
     "output_type": "stream",
     "text": [
      "當前的數字可能為:5\n"
     ]
    }
   ],
   "source": [
    "temp=[i/10 for i in temp]\n",
    "r=np.zeros(10)\n",
    "for i in temp:\n",
    "    r[int(i)]+=1\n",
    "print(\"當前的數字可能為:\"+str(np.argmax(r)))"
   ]
  },
  {
   "cell_type": "code",
   "execution_count": 29,
   "id": "0e828741-390b-45cb-8633-01ee1bc8bde2",
   "metadata": {},
   "outputs": [
    {
     "name": "stdout",
     "output_type": "stream",
     "text": [
      "0 0 0 0 0 0 0 0 0 0 1 1 1 1 1 1 1 1 1 1 2 2 2 2 2 2 2 2 2 2 3 3 3 3 3 3 3 3 3 3 4 4 4 4 4 4 4 4 4 4 5 5 5 5 5 5 5 5 5 5 6 6 6 6 6 6 6 6 6 6 7 7 7 7 7 7 7 7 7 7 8 8 8 8 8 8 8 8 8 8 9 9 9 9 9 9 9 9 9 9\n"
     ]
    }
   ],
   "source": [
    "train = feature[:,:].reshape(-1,round(row/5)*round(col/5)).astype(np.float32)\n",
    "trainLabels = [int(i/10)  for i in range(0,100)]\n",
    "trainLabels=np.asarray(trainLabels)\n",
    "print(*trainLabels)"
   ]
  },
  {
   "cell_type": "code",
   "execution_count": null,
   "id": "3105543a-218d-4d2c-9fd5-3d5cd9ddcdab",
   "metadata": {},
   "outputs": [],
   "source": []
  }
 ],
 "metadata": {
  "kernelspec": {
   "display_name": "Python 3 (ipykernel)",
   "language": "python",
   "name": "python3"
  },
  "language_info": {
   "codemirror_mode": {
    "name": "ipython",
    "version": 3
   },
   "file_extension": ".py",
   "mimetype": "text/x-python",
   "name": "python",
   "nbconvert_exporter": "python",
   "pygments_lexer": "ipython3",
   "version": "3.11.7"
  }
 },
 "nbformat": 4,
 "nbformat_minor": 5
}
