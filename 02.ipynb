{
 "cells": [
  {
   "cell_type": "code",
   "execution_count": 3,
   "id": "2bb929e0-1b73-4873-a6e9-fdb50ab35228",
   "metadata": {},
   "outputs": [],
   "source": [
    "import cv2\n",
    "import numpy as np"
   ]
  },
  {
   "cell_type": "code",
   "execution_count": 4,
   "id": "de33c673-cacc-4466-84a6-286e0eedd05f",
   "metadata": {},
   "outputs": [
    {
     "name": "stdout",
     "output_type": "stream",
     "text": [
      "(100, 240, 240)\n"
     ]
    }
   ],
   "source": [
    "s = \"image\\\\\"\n",
    "num = 100\n",
    "row = 240\n",
    "col = 240\n",
    "a = np.zeros((num, row, col))\n",
    "print(a.shape)"
   ]
  },
  {
   "cell_type": "code",
   "execution_count": 5,
   "id": "7b9f2277-57b1-47c8-9ae4-46281e1c586a",
   "metadata": {},
   "outputs": [],
   "source": [
    "n=0\n",
    "for i in range(0,10):\n",
    "    for j in range(1,11):\n",
    "        a[n,:,:]=cv2.imread(s+str(i)+\"\\\\\"+str(i)+\"-\"+str(j)+\".bmp\",0)\n",
    "        n+=1"
   ]
  },
  {
   "cell_type": "code",
   "execution_count": 6,
   "id": "500177dd-63ea-419f-8760-66bdb9745e44",
   "metadata": {},
   "outputs": [
    {
     "name": "stdout",
     "output_type": "stream",
     "text": [
      "[[255. 255. 255. ... 255. 255. 255.]\n",
      " [255. 255. 255. ... 255. 255. 255.]\n",
      " [255. 255. 255. ... 255. 255. 255.]\n",
      " ...\n",
      " [255. 255. 255. ... 255. 255. 255.]\n",
      " [255. 255. 255. ... 255. 255. 255.]\n",
      " [255. 255. 255. ... 255. 255. 255.]]\n"
     ]
    }
   ],
   "source": [
    "print(a[0,::])"
   ]
  },
  {
   "cell_type": "code",
   "execution_count": 7,
   "id": "96067a6d-3f9a-421f-abbd-8afe87ad992b",
   "metadata": {},
   "outputs": [
    {
     "name": "stdout",
     "output_type": "stream",
     "text": [
      "(240, 240)\n"
     ]
    }
   ],
   "source": [
    "print(a[0,::].shape)"
   ]
  },
  {
   "cell_type": "code",
   "execution_count": 8,
   "id": "ba4a5fcd-76f3-4f3f-b88b-e118a3ddaad0",
   "metadata": {},
   "outputs": [],
   "source": [
    "feature=np.zeros((num,round(row/5),round(col/5)))\n",
    "for ni in range(0,num):\n",
    "    for nr in range(0,row):\n",
    "        for nc in range(0,col):\n",
    "            if a[ni,nr,nc]==255:\n",
    "                feature[ni,int(nr/5),int(nc/5)]+=1"
   ]
  },
  {
   "cell_type": "code",
   "execution_count": 9,
   "id": "1ee4ec5a-4ae1-4a37-8d46-2b693cc178c9",
   "metadata": {},
   "outputs": [],
   "source": [
    "o=cv2.imread(\"image\\\\test\\\\5.bmp\",0)\n",
    "of=np.zeros((round(row/5),round(col/5)))\n",
    "for nr in range(0,row):\n",
    "    for nc in range(0,col):\n",
    "        if o[nr,nc]==255:\n",
    "            of[int(nr/5),int(nc/5)]+=1"
   ]
  },
  {
   "cell_type": "code",
   "execution_count": 10,
   "id": "055c62b6-f35d-49ab-9be3-595749ff9471",
   "metadata": {},
   "outputs": [
    {
     "name": "stdout",
     "output_type": "stream",
     "text": [
      "(100, 2304)\n",
      "0 0 0 0 0 0 0 0 0 0 1 1 1 1 1 1 1 1 1 1 2 2 2 2 2 2 2 2 2 2 3 3 3 3 3 3 3 3 3 3 4 4 4 4 4 4 4 4 4 4 5 5 5 5 5 5 5 5 5 5 6 6 6 6 6 6 6 6 6 6 7 7 7 7 7 7 7 7 7 7 8 8 8 8 8 8 8 8 8 8 9 9 9 9 9 9 9 9 9 9\n",
      "<class 'numpy.ndarray'>\n"
     ]
    }
   ],
   "source": [
    "train= feature[:,:].reshape(-1,round(row/5)*round(col/5)).astype(np.float32)\n",
    "print(train.shape)\n",
    "trainLabels=[int(i/10) for i in range(0,100)]\n",
    "trainLabels=np.asarray(trainLabels)\n",
    "print(*trainLabels)\n",
    "print(type(trainLabels))"
   ]
  },
  {
   "cell_type": "code",
   "execution_count": 11,
   "id": "60c15498-dd69-4e9a-9397-e8988352779c",
   "metadata": {},
   "outputs": [],
   "source": [
    "o=cv2.imread(\"image\\\\test\\\\5.bmp\",0)\n",
    "of=np.zeros((round(row/5),round(col/5)))\n",
    "for nr in range(0,row):\n",
    "    for nc in range(0,col):\n",
    "        if o[nr,nc]==255:\n",
    "            of[int(nr/5),int(nc/5)]+=1"
   ]
  },
  {
   "cell_type": "code",
   "execution_count": 12,
   "id": "f05f7ff8-dfef-4aa1-9a01-ee811c3bf882",
   "metadata": {},
   "outputs": [
    {
     "name": "stdout",
     "output_type": "stream",
     "text": [
      "當前隨機數可以判定為類型： [[5.]]\n",
      "距離當前點最近的7個鄰居是： [[5. 3. 5. 3. 5. 1. 1.]]\n",
      "7個最近鄰居的距離 :  [[77185. 78375. 79073. 79948. 82151. 82476. 82677.]]\n"
     ]
    }
   ],
   "source": [
    "test=of.reshape(-1,round(row/5)*round(col/5)).astype(np.float32)\n",
    "knn=cv2.ml.KNearest_create()\n",
    "knn.train(train,cv2.ml.ROW_SAMPLE, trainLabels)\n",
    "ret,result,neighbours,dist = knn.findNearest(test,k=7)\n",
    "print(\"當前隨機數可以判定為類型：\", result)\n",
    "print(\"距離當前點最近的7個鄰居是：\", neighbours)\n",
    "print(\"7個最近鄰居的距離 : \", dist)"
   ]
  },
  {
   "cell_type": "code",
   "execution_count": null,
   "id": "dcd1ccdf-b44d-4fc5-9348-f9edfdb996be",
   "metadata": {},
   "outputs": [],
   "source": []
  }
 ],
 "metadata": {
  "kernelspec": {
   "display_name": "Python 3 (ipykernel)",
   "language": "python",
   "name": "python3"
  },
  "language_info": {
   "codemirror_mode": {
    "name": "ipython",
    "version": 3
   },
   "file_extension": ".py",
   "mimetype": "text/x-python",
   "name": "python",
   "nbconvert_exporter": "python",
   "pygments_lexer": "ipython3",
   "version": "3.11.7"
  }
 },
 "nbformat": 4,
 "nbformat_minor": 5
}
