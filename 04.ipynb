import numpy as np
import matplotlib.pyplot as plt
from sklearn.datasets import fetch_openml
from sklearn.model_selection import train_test_split
from sklearn.neighbors import KNeighborsClassifier


mnist = fetch_openml('mnist_784', version=1)
X = np.array(mnist.data)
y = np.array(mnist.target, dtype=np.uint8)


X_train, X_test, y_train, y_test = train_test_split(X, y, test_size=0.2, random_state=42)


knn = KNeighborsClassifier(n_neighbors=5, p=2, metric="minkowski")


knn.fit(X_train, y_train)


y_test_pred = knn.predict(X_test)


def plot_images_labels_prediction(images, labels, predictions, idx, num=10):
    fig = plt.gcf()
    fig.set_size_inches(12, 14)
    if num > 25:
        num = 25
    for i in range(num):
        ax = plt.subplot(5, 5, 1 + i)
        ax.imshow(np.reshape(images[idx], (28, 28)), cmap="binary")
        
    
        title = f"Label: {labels[idx]}"
        if predictions[idx] != labels[idx]:
            title += f"\nPrediction: {predictions[idx]} (Error)"
            ax.set_title(title, fontsize=10, color='red') 
        else:
            title += f"\nPrediction: {predictions[idx]}"
            ax.set_title(title, fontsize=10)  
            
        ax.set_xticks([])
        ax.set_yticks([])
        idx += 1
    plt.show()



plot_images_labels_prediction(X_test, y_test, y_test_pred, 0)
