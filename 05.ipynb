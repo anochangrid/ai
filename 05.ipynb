from sklearn import datasets
from sklearn.model_selection import train_test_split  
from sklearn.neighbors import KNeighborsClassifier
from colorama import init, Fore, Style
import numpy as np

iris = datasets.load_iris()
iris_data=iris.data
iris_label = iris.target
iris_data[0:3]

train_data , test_data , train_label , test_label = train_test_split(iris_data,iris_label,test_size=0.2)

knn = KNeighborsClassifier()
knn.fit(train_data, train_label)

predictions = knn.predict(test_data)
print(predictions)

for pred, true in zip(predictions, test_label):
    if pred != true:
        print(Fore.RED + f'預測: {pred}, 真實: {true}' + Style.RESET_ALL)
    else:
        print(f'預測: {pred}, 真實: {true}')
